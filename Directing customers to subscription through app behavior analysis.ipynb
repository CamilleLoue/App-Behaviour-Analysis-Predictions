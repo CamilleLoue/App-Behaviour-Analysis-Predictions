{
 "cells": [
  {
   "cell_type": "markdown",
   "id": "0168d639",
   "metadata": {},
   "source": [
    "# DIRECTING CUSTOMERS TO SUBSCRIPTION THROUGHT APP BEHAVIOUS ANALYSIS"
   ]
  },
  {
   "cell_type": "markdown",
   "id": "c83ede82",
   "metadata": {},
   "source": [
    "## Importing Data"
   ]
  },
  {
   "cell_type": "code",
   "execution_count": 2,
   "id": "56bc9293",
   "metadata": {},
   "outputs": [],
   "source": [
    "import pandas as pd\n",
    "from dateutil import parser\n",
    "import matplotlib.pyplot as plt\n",
    "import numpy as np\n",
    "import seaborn as sns\n",
    "%matplotlib inline"
   ]
  },
  {
   "cell_type": "code",
   "execution_count": 3,
   "id": "7a0c4de6",
   "metadata": {},
   "outputs": [],
   "source": [
    "df = pd.read_csv('datasets/appdata10.csv')"
   ]
  },
  {
   "cell_type": "markdown",
   "id": "434a8537",
   "metadata": {},
   "source": [
    "## EDA"
   ]
  },
  {
   "cell_type": "code",
   "execution_count": 3,
   "id": "cfd09aef",
   "metadata": {},
   "outputs": [
    {
     "data": {
      "text/html": [
       "<div>\n",
       "<style scoped>\n",
       "    .dataframe tbody tr th:only-of-type {\n",
       "        vertical-align: middle;\n",
       "    }\n",
       "\n",
       "    .dataframe tbody tr th {\n",
       "        vertical-align: top;\n",
       "    }\n",
       "\n",
       "    .dataframe thead th {\n",
       "        text-align: right;\n",
       "    }\n",
       "</style>\n",
       "<table border=\"1\" class=\"dataframe\">\n",
       "  <thead>\n",
       "    <tr style=\"text-align: right;\">\n",
       "      <th></th>\n",
       "      <th>user</th>\n",
       "      <th>first_open</th>\n",
       "      <th>dayofweek</th>\n",
       "      <th>hour</th>\n",
       "      <th>age</th>\n",
       "      <th>screen_list</th>\n",
       "      <th>numscreens</th>\n",
       "      <th>minigame</th>\n",
       "      <th>used_premium_feature</th>\n",
       "      <th>enrolled</th>\n",
       "      <th>enrolled_date</th>\n",
       "      <th>liked</th>\n",
       "    </tr>\n",
       "  </thead>\n",
       "  <tbody>\n",
       "    <tr>\n",
       "      <th>0</th>\n",
       "      <td>235136</td>\n",
       "      <td>2012-12-27 02:14:51.273</td>\n",
       "      <td>3</td>\n",
       "      <td>02:00:00</td>\n",
       "      <td>23</td>\n",
       "      <td>idscreen,joinscreen,Cycle,product_review,ScanP...</td>\n",
       "      <td>15</td>\n",
       "      <td>0</td>\n",
       "      <td>0</td>\n",
       "      <td>0</td>\n",
       "      <td>NaN</td>\n",
       "      <td>0</td>\n",
       "    </tr>\n",
       "    <tr>\n",
       "      <th>1</th>\n",
       "      <td>333588</td>\n",
       "      <td>2012-12-02 01:16:00.905</td>\n",
       "      <td>6</td>\n",
       "      <td>01:00:00</td>\n",
       "      <td>24</td>\n",
       "      <td>joinscreen,product_review,product_review2,Scan...</td>\n",
       "      <td>13</td>\n",
       "      <td>0</td>\n",
       "      <td>0</td>\n",
       "      <td>0</td>\n",
       "      <td>NaN</td>\n",
       "      <td>0</td>\n",
       "    </tr>\n",
       "    <tr>\n",
       "      <th>2</th>\n",
       "      <td>254414</td>\n",
       "      <td>2013-03-19 19:19:09.157</td>\n",
       "      <td>1</td>\n",
       "      <td>19:00:00</td>\n",
       "      <td>23</td>\n",
       "      <td>Splash,Cycle,Loan</td>\n",
       "      <td>3</td>\n",
       "      <td>0</td>\n",
       "      <td>1</td>\n",
       "      <td>0</td>\n",
       "      <td>NaN</td>\n",
       "      <td>1</td>\n",
       "    </tr>\n",
       "    <tr>\n",
       "      <th>3</th>\n",
       "      <td>234192</td>\n",
       "      <td>2013-07-05 16:08:46.354</td>\n",
       "      <td>4</td>\n",
       "      <td>16:00:00</td>\n",
       "      <td>28</td>\n",
       "      <td>product_review,Home,product_review,Loan3,Finan...</td>\n",
       "      <td>40</td>\n",
       "      <td>0</td>\n",
       "      <td>0</td>\n",
       "      <td>1</td>\n",
       "      <td>2013-07-05 16:11:49.513</td>\n",
       "      <td>0</td>\n",
       "    </tr>\n",
       "    <tr>\n",
       "      <th>4</th>\n",
       "      <td>51549</td>\n",
       "      <td>2013-02-26 18:50:48.661</td>\n",
       "      <td>1</td>\n",
       "      <td>18:00:00</td>\n",
       "      <td>31</td>\n",
       "      <td>idscreen,joinscreen,Cycle,Credit3Container,Sca...</td>\n",
       "      <td>32</td>\n",
       "      <td>0</td>\n",
       "      <td>0</td>\n",
       "      <td>1</td>\n",
       "      <td>2013-02-26 18:56:37.841</td>\n",
       "      <td>1</td>\n",
       "    </tr>\n",
       "  </tbody>\n",
       "</table>\n",
       "</div>"
      ],
      "text/plain": [
       "     user               first_open  dayofweek       hour  age  \\\n",
       "0  235136  2012-12-27 02:14:51.273          3   02:00:00   23   \n",
       "1  333588  2012-12-02 01:16:00.905          6   01:00:00   24   \n",
       "2  254414  2013-03-19 19:19:09.157          1   19:00:00   23   \n",
       "3  234192  2013-07-05 16:08:46.354          4   16:00:00   28   \n",
       "4   51549  2013-02-26 18:50:48.661          1   18:00:00   31   \n",
       "\n",
       "                                         screen_list  numscreens  minigame  \\\n",
       "0  idscreen,joinscreen,Cycle,product_review,ScanP...          15         0   \n",
       "1  joinscreen,product_review,product_review2,Scan...          13         0   \n",
       "2                                  Splash,Cycle,Loan           3         0   \n",
       "3  product_review,Home,product_review,Loan3,Finan...          40         0   \n",
       "4  idscreen,joinscreen,Cycle,Credit3Container,Sca...          32         0   \n",
       "\n",
       "   used_premium_feature  enrolled            enrolled_date  liked  \n",
       "0                     0         0                      NaN      0  \n",
       "1                     0         0                      NaN      0  \n",
       "2                     1         0                      NaN      1  \n",
       "3                     0         1  2013-07-05 16:11:49.513      0  \n",
       "4                     0         1  2013-02-26 18:56:37.841      1  "
      ]
     },
     "execution_count": 3,
     "metadata": {},
     "output_type": "execute_result"
    }
   ],
   "source": [
    "df.head()"
   ]
  },
  {
   "cell_type": "code",
   "execution_count": 4,
   "id": "dc2d8ed9",
   "metadata": {},
   "outputs": [
    {
     "data": {
      "text/html": [
       "<div>\n",
       "<style scoped>\n",
       "    .dataframe tbody tr th:only-of-type {\n",
       "        vertical-align: middle;\n",
       "    }\n",
       "\n",
       "    .dataframe tbody tr th {\n",
       "        vertical-align: top;\n",
       "    }\n",
       "\n",
       "    .dataframe thead th {\n",
       "        text-align: right;\n",
       "    }\n",
       "</style>\n",
       "<table border=\"1\" class=\"dataframe\">\n",
       "  <thead>\n",
       "    <tr style=\"text-align: right;\">\n",
       "      <th></th>\n",
       "      <th>user</th>\n",
       "      <th>dayofweek</th>\n",
       "      <th>age</th>\n",
       "      <th>numscreens</th>\n",
       "      <th>minigame</th>\n",
       "      <th>used_premium_feature</th>\n",
       "      <th>enrolled</th>\n",
       "      <th>liked</th>\n",
       "    </tr>\n",
       "  </thead>\n",
       "  <tbody>\n",
       "    <tr>\n",
       "      <th>count</th>\n",
       "      <td>50000.000000</td>\n",
       "      <td>50000.000000</td>\n",
       "      <td>50000.00000</td>\n",
       "      <td>50000.000000</td>\n",
       "      <td>50000.000000</td>\n",
       "      <td>50000.000000</td>\n",
       "      <td>50000.000000</td>\n",
       "      <td>50000.000000</td>\n",
       "    </tr>\n",
       "    <tr>\n",
       "      <th>mean</th>\n",
       "      <td>186889.729900</td>\n",
       "      <td>3.029860</td>\n",
       "      <td>31.72436</td>\n",
       "      <td>21.095900</td>\n",
       "      <td>0.107820</td>\n",
       "      <td>0.172020</td>\n",
       "      <td>0.621480</td>\n",
       "      <td>0.165000</td>\n",
       "    </tr>\n",
       "    <tr>\n",
       "      <th>std</th>\n",
       "      <td>107768.520361</td>\n",
       "      <td>2.031997</td>\n",
       "      <td>10.80331</td>\n",
       "      <td>15.728812</td>\n",
       "      <td>0.310156</td>\n",
       "      <td>0.377402</td>\n",
       "      <td>0.485023</td>\n",
       "      <td>0.371184</td>\n",
       "    </tr>\n",
       "    <tr>\n",
       "      <th>min</th>\n",
       "      <td>13.000000</td>\n",
       "      <td>0.000000</td>\n",
       "      <td>16.00000</td>\n",
       "      <td>1.000000</td>\n",
       "      <td>0.000000</td>\n",
       "      <td>0.000000</td>\n",
       "      <td>0.000000</td>\n",
       "      <td>0.000000</td>\n",
       "    </tr>\n",
       "    <tr>\n",
       "      <th>25%</th>\n",
       "      <td>93526.750000</td>\n",
       "      <td>1.000000</td>\n",
       "      <td>24.00000</td>\n",
       "      <td>10.000000</td>\n",
       "      <td>0.000000</td>\n",
       "      <td>0.000000</td>\n",
       "      <td>0.000000</td>\n",
       "      <td>0.000000</td>\n",
       "    </tr>\n",
       "    <tr>\n",
       "      <th>50%</th>\n",
       "      <td>187193.500000</td>\n",
       "      <td>3.000000</td>\n",
       "      <td>29.00000</td>\n",
       "      <td>18.000000</td>\n",
       "      <td>0.000000</td>\n",
       "      <td>0.000000</td>\n",
       "      <td>1.000000</td>\n",
       "      <td>0.000000</td>\n",
       "    </tr>\n",
       "    <tr>\n",
       "      <th>75%</th>\n",
       "      <td>279984.250000</td>\n",
       "      <td>5.000000</td>\n",
       "      <td>37.00000</td>\n",
       "      <td>28.000000</td>\n",
       "      <td>0.000000</td>\n",
       "      <td>0.000000</td>\n",
       "      <td>1.000000</td>\n",
       "      <td>0.000000</td>\n",
       "    </tr>\n",
       "    <tr>\n",
       "      <th>max</th>\n",
       "      <td>373662.000000</td>\n",
       "      <td>6.000000</td>\n",
       "      <td>101.00000</td>\n",
       "      <td>325.000000</td>\n",
       "      <td>1.000000</td>\n",
       "      <td>1.000000</td>\n",
       "      <td>1.000000</td>\n",
       "      <td>1.000000</td>\n",
       "    </tr>\n",
       "  </tbody>\n",
       "</table>\n",
       "</div>"
      ],
      "text/plain": [
       "                user     dayofweek          age    numscreens      minigame  \\\n",
       "count   50000.000000  50000.000000  50000.00000  50000.000000  50000.000000   \n",
       "mean   186889.729900      3.029860     31.72436     21.095900      0.107820   \n",
       "std    107768.520361      2.031997     10.80331     15.728812      0.310156   \n",
       "min        13.000000      0.000000     16.00000      1.000000      0.000000   \n",
       "25%     93526.750000      1.000000     24.00000     10.000000      0.000000   \n",
       "50%    187193.500000      3.000000     29.00000     18.000000      0.000000   \n",
       "75%    279984.250000      5.000000     37.00000     28.000000      0.000000   \n",
       "max    373662.000000      6.000000    101.00000    325.000000      1.000000   \n",
       "\n",
       "       used_premium_feature      enrolled         liked  \n",
       "count          50000.000000  50000.000000  50000.000000  \n",
       "mean               0.172020      0.621480      0.165000  \n",
       "std                0.377402      0.485023      0.371184  \n",
       "min                0.000000      0.000000      0.000000  \n",
       "25%                0.000000      0.000000      0.000000  \n",
       "50%                0.000000      1.000000      0.000000  \n",
       "75%                0.000000      1.000000      0.000000  \n",
       "max                1.000000      1.000000      1.000000  "
      ]
     },
     "execution_count": 4,
     "metadata": {},
     "output_type": "execute_result"
    }
   ],
   "source": [
    "df.describe()"
   ]
  },
  {
   "cell_type": "code",
   "execution_count": 5,
   "id": "8ee7c003",
   "metadata": {},
   "outputs": [
    {
     "name": "stdout",
     "output_type": "stream",
     "text": [
      "<class 'pandas.core.frame.DataFrame'>\n",
      "RangeIndex: 50000 entries, 0 to 49999\n",
      "Data columns (total 12 columns):\n",
      " #   Column                Non-Null Count  Dtype \n",
      "---  ------                --------------  ----- \n",
      " 0   user                  50000 non-null  int64 \n",
      " 1   first_open            50000 non-null  object\n",
      " 2   dayofweek             50000 non-null  int64 \n",
      " 3   hour                  50000 non-null  object\n",
      " 4   age                   50000 non-null  int64 \n",
      " 5   screen_list           50000 non-null  object\n",
      " 6   numscreens            50000 non-null  int64 \n",
      " 7   minigame              50000 non-null  int64 \n",
      " 8   used_premium_feature  50000 non-null  int64 \n",
      " 9   enrolled              50000 non-null  int64 \n",
      " 10  enrolled_date         31074 non-null  object\n",
      " 11  liked                 50000 non-null  int64 \n",
      "dtypes: int64(8), object(4)\n",
      "memory usage: 4.6+ MB\n"
     ]
    }
   ],
   "source": [
    "df.info()"
   ]
  },
  {
   "cell_type": "code",
   "execution_count": 4,
   "id": "87fa5fa6",
   "metadata": {},
   "outputs": [],
   "source": [
    "# The hour datatype is 'object' so we need to change it to a numerical value to use it later\n",
    "df['hour'] = df.hour.str.slice(1,3).astype(int)"
   ]
  },
  {
   "cell_type": "code",
   "execution_count": 5,
   "id": "cb92ec88",
   "metadata": {},
   "outputs": [
    {
     "data": {
      "text/plain": [
       "dtype('int32')"
      ]
     },
     "execution_count": 5,
     "metadata": {},
     "output_type": "execute_result"
    }
   ],
   "source": [
    "df['hour'].dtype"
   ]
  },
  {
   "cell_type": "code",
   "execution_count": 6,
   "id": "065f980c",
   "metadata": {},
   "outputs": [
    {
     "data": {
      "text/html": [
       "<div>\n",
       "<style scoped>\n",
       "    .dataframe tbody tr th:only-of-type {\n",
       "        vertical-align: middle;\n",
       "    }\n",
       "\n",
       "    .dataframe tbody tr th {\n",
       "        vertical-align: top;\n",
       "    }\n",
       "\n",
       "    .dataframe thead th {\n",
       "        text-align: right;\n",
       "    }\n",
       "</style>\n",
       "<table border=\"1\" class=\"dataframe\">\n",
       "  <thead>\n",
       "    <tr style=\"text-align: right;\">\n",
       "      <th></th>\n",
       "      <th>dayofweek</th>\n",
       "      <th>hour</th>\n",
       "      <th>age</th>\n",
       "      <th>numscreens</th>\n",
       "      <th>minigame</th>\n",
       "      <th>used_premium_feature</th>\n",
       "      <th>liked</th>\n",
       "    </tr>\n",
       "  </thead>\n",
       "  <tbody>\n",
       "    <tr>\n",
       "      <th>0</th>\n",
       "      <td>3</td>\n",
       "      <td>2</td>\n",
       "      <td>23</td>\n",
       "      <td>15</td>\n",
       "      <td>0</td>\n",
       "      <td>0</td>\n",
       "      <td>0</td>\n",
       "    </tr>\n",
       "    <tr>\n",
       "      <th>1</th>\n",
       "      <td>6</td>\n",
       "      <td>1</td>\n",
       "      <td>24</td>\n",
       "      <td>13</td>\n",
       "      <td>0</td>\n",
       "      <td>0</td>\n",
       "      <td>0</td>\n",
       "    </tr>\n",
       "    <tr>\n",
       "      <th>2</th>\n",
       "      <td>1</td>\n",
       "      <td>19</td>\n",
       "      <td>23</td>\n",
       "      <td>3</td>\n",
       "      <td>0</td>\n",
       "      <td>1</td>\n",
       "      <td>1</td>\n",
       "    </tr>\n",
       "    <tr>\n",
       "      <th>3</th>\n",
       "      <td>4</td>\n",
       "      <td>16</td>\n",
       "      <td>28</td>\n",
       "      <td>40</td>\n",
       "      <td>0</td>\n",
       "      <td>0</td>\n",
       "      <td>0</td>\n",
       "    </tr>\n",
       "    <tr>\n",
       "      <th>4</th>\n",
       "      <td>1</td>\n",
       "      <td>18</td>\n",
       "      <td>31</td>\n",
       "      <td>32</td>\n",
       "      <td>0</td>\n",
       "      <td>0</td>\n",
       "      <td>1</td>\n",
       "    </tr>\n",
       "  </tbody>\n",
       "</table>\n",
       "</div>"
      ],
      "text/plain": [
       "   dayofweek  hour  age  numscreens  minigame  used_premium_feature  liked\n",
       "0          3     2   23          15         0                     0      0\n",
       "1          6     1   24          13         0                     0      0\n",
       "2          1    19   23           3         0                     1      1\n",
       "3          4    16   28          40         0                     0      0\n",
       "4          1    18   31          32         0                     0      1"
      ]
     },
     "execution_count": 6,
     "metadata": {},
     "output_type": "execute_result"
    }
   ],
   "source": [
    "# Let's make another dataframe to visualise all the numerical values/columns\n",
    "df2 = df.drop(['user', 'screen_list', 'enrolled_date','first_open', 'enrolled'],axis=1)\n",
    "df2.head()"
   ]
  },
  {
   "cell_type": "markdown",
   "id": "72e50c31",
   "metadata": {},
   "source": [
    "## Data Visualization"
   ]
  },
  {
   "cell_type": "code",
   "execution_count": 36,
   "id": "a491f209",
   "metadata": {},
   "outputs": [
    {
     "data": {
      "image/png": "[encoded data removed]",
      "text/plain": [
       "<Figure size 432x288 with 7 Axes>"
      ]
     },
     "metadata": {
      "needs_background": "light"
     },
     "output_type": "display_data"
    }
   ],
   "source": [
    "# Histogram\n",
    "\n",
    "plt.suptitle('Histograms of Numerical Columns', fontsize=15)\n",
    "\n",
    "for i in range(1, df2.shape[1] + 1):\n",
    "    plt.subplot(3, 3, i)\n",
    "    f = plt.gca()\n",
    "    \n",
    "    f.set_title(df2.columns.values[i - 1])\n",
    "\n",
    "    vals = np.size(df2.iloc[:, i - 1].unique())\n",
    "    \n",
    "    plt.hist(df2.iloc[:, i - 1], bins=vals, color='#3F5D7D',)\n",
    "    \n",
    "plt.tight_layout(rect=[0, 0.03, 1, 0.95])"
   ]
  },
  {
   "cell_type": "code",
   "execution_count": 22,
   "id": "56ba6415",
   "metadata": {},
   "outputs": [
    {
     "data": {
      "text/plain": [
       "<AxesSubplot:title={'center':'Correlation between numerical values and enrollment'}>"
      ]
     },
     "execution_count": 22,
     "metadata": {},
     "output_type": "execute_result"
    },
    {
     "data": {
      "image/png": "[encoded data removed]",
      "text/plain": [
       "<Figure size 1008x576 with 1 Axes>"
      ]
     },
     "metadata": {
      "needs_background": "light"
     },
     "output_type": "display_data"
    }
   ],
   "source": [
    "# Correlation between numerical columns and the enrollment\n",
    "\n",
    "df2.corrwith(df.enrolled).plot.bar(figsize=(14,8),\n",
    "                  title = 'Correlation between numerical values and enrollment',\n",
    "                  fontsize = 15, rot = 45)"
   ]
  },
  {
   "cell_type": "code",
   "execution_count": 51,
   "id": "c7ac785d",
   "metadata": {},
   "outputs": [
    {
     "data": {
      "text/plain": [
       "<AxesSubplot:>"
      ]
     },
     "execution_count": 51,
     "metadata": {},
     "output_type": "execute_result"
    },
    {
     "data": {
      "image/png": "[encoded data removed]",
      "text/plain": [
       "<Figure size 576x360 with 2 Axes>"
      ]
     },
     "metadata": {
      "needs_background": "light"
     },
     "output_type": "display_data"
    }
   ],
   "source": [
    "# Heatmap of the correlation matrix\n",
    "plt.figure(figsize=(8,5))\n",
    "sns.heatmap(df2.corr(),cmap='Oranges')"
   ]
  },
  {
   "cell_type": "markdown",
   "id": "8cfded68",
   "metadata": {},
   "source": [
    "## Feature Engineering"
   ]
  },
  {
   "cell_type": "markdown",
   "id": "8daf2972",
   "metadata": {},
   "source": [
    "We want to find the optimal time limit for our prediction model (we need a date range limit on our response variable). \n",
    "To do so, we are going to plot the distribution of the differences between the first open and the enrollment date."
   ]
  },
  {
   "cell_type": "code",
   "execution_count": 7,
   "id": "da576492",
   "metadata": {},
   "outputs": [
    {
     "data": {
      "text/plain": [
       "user                     int64\n",
       "first_open              object\n",
       "dayofweek                int64\n",
       "hour                     int32\n",
       "age                      int64\n",
       "screen_list             object\n",
       "numscreens               int64\n",
       "minigame                 int64\n",
       "used_premium_feature     int64\n",
       "enrolled                 int64\n",
       "enrolled_date           object\n",
       "liked                    int64\n",
       "dtype: object"
      ]
     },
     "execution_count": 7,
     "metadata": {},
     "output_type": "execute_result"
    }
   ],
   "source": [
    "df.dtypes"
   ]
  },
  {
   "cell_type": "code",
   "execution_count": 8,
   "id": "ccfcc25c",
   "metadata": {},
   "outputs": [],
   "source": [
    "# Let's change the object type columns to date time type.\n",
    "df['first_open'] = [parser.parse(x) for x in df['first_open']]"
   ]
  },
  {
   "cell_type": "code",
   "execution_count": 9,
   "id": "3ed8a9d5",
   "metadata": {},
   "outputs": [],
   "source": [
    "df[\"enrolled_date\"] = [parser.parse(row_date) if isinstance(row_date, str) else row_date for row_date in df[\"enrolled_date\"]]"
   ]
  },
  {
   "cell_type": "code",
   "execution_count": 10,
   "id": "427433cc",
   "metadata": {},
   "outputs": [
    {
     "data": {
      "text/plain": [
       "user                             int64\n",
       "first_open              datetime64[ns]\n",
       "dayofweek                        int64\n",
       "hour                             int32\n",
       "age                              int64\n",
       "screen_list                     object\n",
       "numscreens                       int64\n",
       "minigame                         int64\n",
       "used_premium_feature             int64\n",
       "enrolled                         int64\n",
       "enrolled_date           datetime64[ns]\n",
       "liked                            int64\n",
       "dtype: object"
      ]
     },
     "execution_count": 10,
     "metadata": {},
     "output_type": "execute_result"
    }
   ],
   "source": [
    "df.dtypes"
   ]
  },
  {
   "cell_type": "code",
   "execution_count": 11,
   "id": "b0e8ddb4",
   "metadata": {},
   "outputs": [],
   "source": [
    "# Now let's create the a new column : the difference column\n",
    "df['difference'] = (df.enrolled_date - df.first_open).astype('timedelta64[h]')"
   ]
  },
  {
   "cell_type": "code",
   "execution_count": 12,
   "id": "884896e0",
   "metadata": {},
   "outputs": [
    {
     "data": {
      "image/png": "[encoded data removed]",
      "text/plain": [
       "<Figure size 432x288 with 1 Axes>"
      ]
     },
     "metadata": {
      "needs_background": "light"
     },
     "output_type": "display_data"
    }
   ],
   "source": [
    "plt.hist(df['difference'].dropna())\n",
    "plt.title('Distribution of time-since-enrolled')\n",
    "plt.show()"
   ]
  },
  {
   "cell_type": "code",
   "execution_count": 77,
   "id": "1af9b95e",
   "metadata": {},
   "outputs": [
    {
     "data": {
      "image/png": "[encoded data removed]",
      "text/plain": [
       "<Figure size 432x288 with 1 Axes>"
      ]
     },
     "metadata": {
      "needs_background": "light"
     },
     "output_type": "display_data"
    }
   ],
   "source": [
    "plt.hist(df['difference'].dropna(),range=[0,100])\n",
    "plt.title('Distribution of time-since-enrolled, zoom on range[0,100]')\n",
    "plt.show()"
   ]
  },
  {
   "cell_type": "code",
   "execution_count": 13,
   "id": "3f84b875",
   "metadata": {},
   "outputs": [],
   "source": [
    "# 48 hours is a good time scale for our response variable (after 2 days, it's not very relevant as we can see on the graphs)\n",
    "df.loc[df.difference > 48, 'enrolled'] = 0"
   ]
  },
  {
   "cell_type": "code",
   "execution_count": 14,
   "id": "705c1d0b",
   "metadata": {},
   "outputs": [],
   "source": [
    "# Now we don't need to use most of the date time type columns anymore.\n",
    "df = df.drop(['difference','enrolled_date','first_open'],axis=1)"
   ]
  },
  {
   "cell_type": "markdown",
   "id": "99d887a8",
   "metadata": {},
   "source": [
    "There are too many 'screens' for us to analyse the data from. We only want the most used/important ones : the top screens."
   ]
  },
  {
   "cell_type": "code",
   "execution_count": 15,
   "id": "ba93f238",
   "metadata": {},
   "outputs": [
    {
     "data": {
      "text/html": [
       "<div>\n",
       "<style scoped>\n",
       "    .dataframe tbody tr th:only-of-type {\n",
       "        vertical-align: middle;\n",
       "    }\n",
       "\n",
       "    .dataframe tbody tr th {\n",
       "        vertical-align: top;\n",
       "    }\n",
       "\n",
       "    .dataframe thead th {\n",
       "        text-align: right;\n",
       "    }\n",
       "</style>\n",
       "<table border=\"1\" class=\"dataframe\">\n",
       "  <thead>\n",
       "    <tr style=\"text-align: right;\">\n",
       "      <th></th>\n",
       "      <th>Unnamed: 0</th>\n",
       "      <th>top_screens</th>\n",
       "    </tr>\n",
       "  </thead>\n",
       "  <tbody>\n",
       "    <tr>\n",
       "      <th>0</th>\n",
       "      <td>0</td>\n",
       "      <td>Loan2</td>\n",
       "    </tr>\n",
       "    <tr>\n",
       "      <th>1</th>\n",
       "      <td>1</td>\n",
       "      <td>location</td>\n",
       "    </tr>\n",
       "    <tr>\n",
       "      <th>2</th>\n",
       "      <td>2</td>\n",
       "      <td>Institutions</td>\n",
       "    </tr>\n",
       "    <tr>\n",
       "      <th>3</th>\n",
       "      <td>3</td>\n",
       "      <td>Credit3Container</td>\n",
       "    </tr>\n",
       "    <tr>\n",
       "      <th>4</th>\n",
       "      <td>4</td>\n",
       "      <td>VerifyPhone</td>\n",
       "    </tr>\n",
       "    <tr>\n",
       "      <th>5</th>\n",
       "      <td>5</td>\n",
       "      <td>BankVerification</td>\n",
       "    </tr>\n",
       "    <tr>\n",
       "      <th>6</th>\n",
       "      <td>6</td>\n",
       "      <td>VerifyDateOfBirth</td>\n",
       "    </tr>\n",
       "    <tr>\n",
       "      <th>7</th>\n",
       "      <td>7</td>\n",
       "      <td>ProfilePage</td>\n",
       "    </tr>\n",
       "    <tr>\n",
       "      <th>8</th>\n",
       "      <td>8</td>\n",
       "      <td>VerifyCountry</td>\n",
       "    </tr>\n",
       "    <tr>\n",
       "      <th>9</th>\n",
       "      <td>9</td>\n",
       "      <td>Cycle</td>\n",
       "    </tr>\n",
       "    <tr>\n",
       "      <th>10</th>\n",
       "      <td>10</td>\n",
       "      <td>idscreen</td>\n",
       "    </tr>\n",
       "    <tr>\n",
       "      <th>11</th>\n",
       "      <td>11</td>\n",
       "      <td>Credit3Dashboard</td>\n",
       "    </tr>\n",
       "    <tr>\n",
       "      <th>12</th>\n",
       "      <td>12</td>\n",
       "      <td>Loan3</td>\n",
       "    </tr>\n",
       "    <tr>\n",
       "      <th>13</th>\n",
       "      <td>13</td>\n",
       "      <td>CC1Category</td>\n",
       "    </tr>\n",
       "    <tr>\n",
       "      <th>14</th>\n",
       "      <td>14</td>\n",
       "      <td>Splash</td>\n",
       "    </tr>\n",
       "    <tr>\n",
       "      <th>15</th>\n",
       "      <td>15</td>\n",
       "      <td>Loan</td>\n",
       "    </tr>\n",
       "    <tr>\n",
       "      <th>16</th>\n",
       "      <td>16</td>\n",
       "      <td>CC1</td>\n",
       "    </tr>\n",
       "    <tr>\n",
       "      <th>17</th>\n",
       "      <td>17</td>\n",
       "      <td>RewardsContainer</td>\n",
       "    </tr>\n",
       "    <tr>\n",
       "      <th>18</th>\n",
       "      <td>18</td>\n",
       "      <td>Credit3</td>\n",
       "    </tr>\n",
       "    <tr>\n",
       "      <th>19</th>\n",
       "      <td>19</td>\n",
       "      <td>Credit1</td>\n",
       "    </tr>\n",
       "    <tr>\n",
       "      <th>20</th>\n",
       "      <td>20</td>\n",
       "      <td>EditProfile</td>\n",
       "    </tr>\n",
       "    <tr>\n",
       "      <th>21</th>\n",
       "      <td>21</td>\n",
       "      <td>Credit2</td>\n",
       "    </tr>\n",
       "    <tr>\n",
       "      <th>22</th>\n",
       "      <td>22</td>\n",
       "      <td>Finances</td>\n",
       "    </tr>\n",
       "    <tr>\n",
       "      <th>23</th>\n",
       "      <td>23</td>\n",
       "      <td>CC3</td>\n",
       "    </tr>\n",
       "    <tr>\n",
       "      <th>24</th>\n",
       "      <td>24</td>\n",
       "      <td>Saving9</td>\n",
       "    </tr>\n",
       "    <tr>\n",
       "      <th>25</th>\n",
       "      <td>25</td>\n",
       "      <td>Saving1</td>\n",
       "    </tr>\n",
       "    <tr>\n",
       "      <th>26</th>\n",
       "      <td>26</td>\n",
       "      <td>Alerts</td>\n",
       "    </tr>\n",
       "    <tr>\n",
       "      <th>27</th>\n",
       "      <td>27</td>\n",
       "      <td>Saving8</td>\n",
       "    </tr>\n",
       "    <tr>\n",
       "      <th>28</th>\n",
       "      <td>28</td>\n",
       "      <td>Saving10</td>\n",
       "    </tr>\n",
       "    <tr>\n",
       "      <th>29</th>\n",
       "      <td>29</td>\n",
       "      <td>Leaderboard</td>\n",
       "    </tr>\n",
       "    <tr>\n",
       "      <th>30</th>\n",
       "      <td>30</td>\n",
       "      <td>Saving4</td>\n",
       "    </tr>\n",
       "    <tr>\n",
       "      <th>31</th>\n",
       "      <td>31</td>\n",
       "      <td>VerifyMobile</td>\n",
       "    </tr>\n",
       "    <tr>\n",
       "      <th>32</th>\n",
       "      <td>32</td>\n",
       "      <td>VerifyHousing</td>\n",
       "    </tr>\n",
       "    <tr>\n",
       "      <th>33</th>\n",
       "      <td>33</td>\n",
       "      <td>RewardDetail</td>\n",
       "    </tr>\n",
       "    <tr>\n",
       "      <th>34</th>\n",
       "      <td>34</td>\n",
       "      <td>VerifyHousingAmount</td>\n",
       "    </tr>\n",
       "    <tr>\n",
       "      <th>35</th>\n",
       "      <td>35</td>\n",
       "      <td>ProfileMaritalStatus</td>\n",
       "    </tr>\n",
       "    <tr>\n",
       "      <th>36</th>\n",
       "      <td>36</td>\n",
       "      <td>ProfileChildren</td>\n",
       "    </tr>\n",
       "    <tr>\n",
       "      <th>37</th>\n",
       "      <td>37</td>\n",
       "      <td>ProfileEducation</td>\n",
       "    </tr>\n",
       "    <tr>\n",
       "      <th>38</th>\n",
       "      <td>38</td>\n",
       "      <td>Saving7</td>\n",
       "    </tr>\n",
       "    <tr>\n",
       "      <th>39</th>\n",
       "      <td>39</td>\n",
       "      <td>ProfileEducationMajor</td>\n",
       "    </tr>\n",
       "    <tr>\n",
       "      <th>40</th>\n",
       "      <td>40</td>\n",
       "      <td>Rewards</td>\n",
       "    </tr>\n",
       "    <tr>\n",
       "      <th>41</th>\n",
       "      <td>41</td>\n",
       "      <td>AccountView</td>\n",
       "    </tr>\n",
       "    <tr>\n",
       "      <th>42</th>\n",
       "      <td>42</td>\n",
       "      <td>VerifyAnnualIncome</td>\n",
       "    </tr>\n",
       "    <tr>\n",
       "      <th>43</th>\n",
       "      <td>43</td>\n",
       "      <td>VerifyIncomeType</td>\n",
       "    </tr>\n",
       "    <tr>\n",
       "      <th>44</th>\n",
       "      <td>44</td>\n",
       "      <td>Saving2</td>\n",
       "    </tr>\n",
       "    <tr>\n",
       "      <th>45</th>\n",
       "      <td>45</td>\n",
       "      <td>Saving6</td>\n",
       "    </tr>\n",
       "    <tr>\n",
       "      <th>46</th>\n",
       "      <td>46</td>\n",
       "      <td>Saving2Amount</td>\n",
       "    </tr>\n",
       "    <tr>\n",
       "      <th>47</th>\n",
       "      <td>47</td>\n",
       "      <td>Saving5</td>\n",
       "    </tr>\n",
       "    <tr>\n",
       "      <th>48</th>\n",
       "      <td>48</td>\n",
       "      <td>ProfileJobTitle</td>\n",
       "    </tr>\n",
       "    <tr>\n",
       "      <th>49</th>\n",
       "      <td>49</td>\n",
       "      <td>Login</td>\n",
       "    </tr>\n",
       "    <tr>\n",
       "      <th>50</th>\n",
       "      <td>50</td>\n",
       "      <td>ProfileEmploymentLength</td>\n",
       "    </tr>\n",
       "    <tr>\n",
       "      <th>51</th>\n",
       "      <td>51</td>\n",
       "      <td>WebView</td>\n",
       "    </tr>\n",
       "    <tr>\n",
       "      <th>52</th>\n",
       "      <td>52</td>\n",
       "      <td>SecurityModal</td>\n",
       "    </tr>\n",
       "    <tr>\n",
       "      <th>53</th>\n",
       "      <td>53</td>\n",
       "      <td>Loan4</td>\n",
       "    </tr>\n",
       "    <tr>\n",
       "      <th>54</th>\n",
       "      <td>54</td>\n",
       "      <td>ResendToken</td>\n",
       "    </tr>\n",
       "    <tr>\n",
       "      <th>55</th>\n",
       "      <td>55</td>\n",
       "      <td>TransactionList</td>\n",
       "    </tr>\n",
       "    <tr>\n",
       "      <th>56</th>\n",
       "      <td>56</td>\n",
       "      <td>NetworkFailure</td>\n",
       "    </tr>\n",
       "    <tr>\n",
       "      <th>57</th>\n",
       "      <td>57</td>\n",
       "      <td>ListPicker</td>\n",
       "    </tr>\n",
       "  </tbody>\n",
       "</table>\n",
       "</div>"
      ],
      "text/plain": [
       "    Unnamed: 0              top_screens\n",
       "0            0                    Loan2\n",
       "1            1                 location\n",
       "2            2             Institutions\n",
       "3            3         Credit3Container\n",
       "4            4              VerifyPhone\n",
       "5            5         BankVerification\n",
       "6            6        VerifyDateOfBirth\n",
       "7            7              ProfilePage\n",
       "8            8            VerifyCountry\n",
       "9            9                    Cycle\n",
       "10          10                 idscreen\n",
       "11          11         Credit3Dashboard\n",
       "12          12                    Loan3\n",
       "13          13              CC1Category\n",
       "14          14                   Splash\n",
       "15          15                     Loan\n",
       "16          16                      CC1\n",
       "17          17         RewardsContainer\n",
       "18          18                  Credit3\n",
       "19          19                  Credit1\n",
       "20          20              EditProfile\n",
       "21          21                  Credit2\n",
       "22          22                 Finances\n",
       "23          23                      CC3\n",
       "24          24                  Saving9\n",
       "25          25                  Saving1\n",
       "26          26                   Alerts\n",
       "27          27                  Saving8\n",
       "28          28                 Saving10\n",
       "29          29              Leaderboard\n",
       "30          30                  Saving4\n",
       "31          31             VerifyMobile\n",
       "32          32            VerifyHousing\n",
       "33          33             RewardDetail\n",
       "34          34      VerifyHousingAmount\n",
       "35          35     ProfileMaritalStatus\n",
       "36          36         ProfileChildren \n",
       "37          37         ProfileEducation\n",
       "38          38                  Saving7\n",
       "39          39    ProfileEducationMajor\n",
       "40          40                  Rewards\n",
       "41          41              AccountView\n",
       "42          42       VerifyAnnualIncome\n",
       "43          43         VerifyIncomeType\n",
       "44          44                  Saving2\n",
       "45          45                  Saving6\n",
       "46          46            Saving2Amount\n",
       "47          47                  Saving5\n",
       "48          48          ProfileJobTitle\n",
       "49          49                    Login\n",
       "50          50  ProfileEmploymentLength\n",
       "51          51                  WebView\n",
       "52          52            SecurityModal\n",
       "53          53                    Loan4\n",
       "54          54              ResendToken\n",
       "55          55          TransactionList\n",
       "56          56           NetworkFailure\n",
       "57          57               ListPicker"
      ]
     },
     "execution_count": 15,
     "metadata": {},
     "output_type": "execute_result"
    }
   ],
   "source": [
    "# For this, let's us the dataset called topscreens\n",
    "pd.read_csv('datasets/top_screens.csv')"
   ]
  },
  {
   "cell_type": "code",
   "execution_count": 16,
   "id": "7b10eda0",
   "metadata": {},
   "outputs": [],
   "source": [
    "top_screens = pd.read_csv('datasets/top_screens.csv').top_screens.values # getting only the relevant values of the table as an np array: the top_screens column values "
   ]
  },
  {
   "cell_type": "code",
   "execution_count": 17,
   "id": "2cbb097e",
   "metadata": {},
   "outputs": [
    {
     "data": {
      "text/plain": [
       "array(['Loan2', 'location', 'Institutions', 'Credit3Container',\n",
       "       'VerifyPhone', 'BankVerification', 'VerifyDateOfBirth',\n",
       "       'ProfilePage', 'VerifyCountry', 'Cycle', 'idscreen',\n",
       "       'Credit3Dashboard', 'Loan3', 'CC1Category', 'Splash', 'Loan',\n",
       "       'CC1', 'RewardsContainer', 'Credit3', 'Credit1', 'EditProfile',\n",
       "       'Credit2', 'Finances', 'CC3', 'Saving9', 'Saving1', 'Alerts',\n",
       "       'Saving8', 'Saving10', 'Leaderboard', 'Saving4', 'VerifyMobile',\n",
       "       'VerifyHousing', 'RewardDetail', 'VerifyHousingAmount',\n",
       "       'ProfileMaritalStatus', 'ProfileChildren ', 'ProfileEducation',\n",
       "       'Saving7', 'ProfileEducationMajor', 'Rewards', 'AccountView',\n",
       "       'VerifyAnnualIncome', 'VerifyIncomeType', 'Saving2', 'Saving6',\n",
       "       'Saving2Amount', 'Saving5', 'ProfileJobTitle', 'Login',\n",
       "       'ProfileEmploymentLength', 'WebView', 'SecurityModal', 'Loan4',\n",
       "       'ResendToken', 'TransactionList', 'NetworkFailure', 'ListPicker'],\n",
       "      dtype=object)"
      ]
     },
     "execution_count": 17,
     "metadata": {},
     "output_type": "execute_result"
    }
   ],
   "source": [
    "top_screens"
   ]
  },
  {
   "cell_type": "markdown",
   "id": "e1a5be58",
   "metadata": {},
   "source": [
    "Let's see which user (so each row in our df) goes/uses one or several of the top screens we just selected."
   ]
  },
  {
   "cell_type": "code",
   "execution_count": 18,
   "id": "76dcabfd",
   "metadata": {},
   "outputs": [],
   "source": [
    "# Mapping screens to fields\n",
    "df['screen_list'] = df.screen_list.astype(str) + ','\n",
    "\n",
    "for sc in top_screens:\n",
    "    df[sc] = df.screen_list.str.contains(sc).astype(int)\n",
    "    df['screen_list'] = df.screen_list.str.replace(sc+\",\", \"\")"
   ]
  },
  {
   "cell_type": "code",
   "execution_count": 19,
   "id": "2c0a5579",
   "metadata": {},
   "outputs": [],
   "source": [
    "df['Other'] = df.screen_list.str.count(\",\")\n",
    "df = df.drop(columns=['screen_list'])"
   ]
  },
  {
   "cell_type": "markdown",
   "id": "f853f7f1",
   "metadata": {},
   "source": [
    "Getting rid of the correlation between screens. We have to group the screens in funnels."
   ]
  },
  {
   "cell_type": "code",
   "execution_count": 101,
   "id": "05fdd9e1",
   "metadata": {},
   "outputs": [],
   "source": [
    "# Saving Screens"
   ]
  },
  {
   "cell_type": "code",
   "execution_count": 20,
   "id": "2ad4bf92",
   "metadata": {},
   "outputs": [],
   "source": [
    "savings_screens = [\"Saving1\",\n",
    "                    \"Saving2\",\n",
    "                    \"Saving2Amount\",\n",
    "                    \"Saving4\",\n",
    "                    \"Saving5\",\n",
    "                    \"Saving6\",\n",
    "                    \"Saving7\",\n",
    "                    \"Saving8\",\n",
    "                    \"Saving9\",\n",
    "                    \"Saving10\"]"
   ]
  },
  {
   "cell_type": "code",
   "execution_count": 21,
   "id": "60ff38ff",
   "metadata": {},
   "outputs": [],
   "source": [
    "df['SavingCount'] = df[savings_screens].sum(axis=1)"
   ]
  },
  {
   "cell_type": "code",
   "execution_count": 22,
   "id": "6ebee72a",
   "metadata": {},
   "outputs": [],
   "source": [
    "df = df.drop(savings_screens,axis=1)"
   ]
  },
  {
   "cell_type": "code",
   "execution_count": 23,
   "id": "2b4c74a6",
   "metadata": {},
   "outputs": [],
   "source": [
    "# Credit Screens"
   ]
  },
  {
   "cell_type": "code",
   "execution_count": 24,
   "id": "4c88893b",
   "metadata": {},
   "outputs": [],
   "source": [
    "cm_screens = [\"Credit1\",\n",
    "               \"Credit2\",\n",
    "               \"Credit3\",\n",
    "               \"Credit3Container\",\n",
    "               \"Credit3Dashboard\"]\n",
    "df[\"CMCount\"] = df[cm_screens].sum(axis=1)\n",
    "df = df.drop(cm_screens,axis=1)"
   ]
  },
  {
   "cell_type": "code",
   "execution_count": 25,
   "id": "2b1a0f51",
   "metadata": {},
   "outputs": [],
   "source": [
    "cc_screens = [\"CC1\",\n",
    "                \"CC1Category\",\n",
    "                \"CC3\"]\n",
    "df[\"CCCount\"] = df[cc_screens].sum(axis=1)\n",
    "df = df.drop(cc_screens,axis=1)"
   ]
  },
  {
   "cell_type": "code",
   "execution_count": 26,
   "id": "723f2210",
   "metadata": {},
   "outputs": [],
   "source": [
    "# Loan Screens"
   ]
  },
  {
   "cell_type": "code",
   "execution_count": 27,
   "id": "4b14cdde",
   "metadata": {},
   "outputs": [],
   "source": [
    "loan_screens = [\"Loan\",\n",
    "               \"Loan2\",\n",
    "               \"Loan3\",\n",
    "               \"Loan4\"]\n",
    "df[\"LoansCount\"] = df[loan_screens].sum(axis=1)\n",
    "df = df.drop(loan_screens,axis=1)"
   ]
  },
  {
   "cell_type": "code",
   "execution_count": 28,
   "id": "89ef1881",
   "metadata": {},
   "outputs": [
    {
     "data": {
      "text/plain": [
       "Index(['user', 'dayofweek', 'hour', 'age', 'numscreens', 'minigame',\n",
       "       'used_premium_feature', 'enrolled', 'liked', 'location', 'Institutions',\n",
       "       'VerifyPhone', 'BankVerification', 'VerifyDateOfBirth', 'ProfilePage',\n",
       "       'VerifyCountry', 'Cycle', 'idscreen', 'Splash', 'RewardsContainer',\n",
       "       'EditProfile', 'Finances', 'Alerts', 'Leaderboard', 'VerifyMobile',\n",
       "       'VerifyHousing', 'RewardDetail', 'VerifyHousingAmount',\n",
       "       'ProfileMaritalStatus', 'ProfileChildren ', 'ProfileEducation',\n",
       "       'ProfileEducationMajor', 'Rewards', 'AccountView', 'VerifyAnnualIncome',\n",
       "       'VerifyIncomeType', 'ProfileJobTitle', 'Login',\n",
       "       'ProfileEmploymentLength', 'WebView', 'SecurityModal', 'ResendToken',\n",
       "       'TransactionList', 'NetworkFailure', 'ListPicker', 'Other',\n",
       "       'SavingCount', 'CMCount', 'CCCount', 'LoansCount'],\n",
       "      dtype='object')"
      ]
     },
     "execution_count": 28,
     "metadata": {},
     "output_type": "execute_result"
    }
   ],
   "source": [
    "df.columns"
   ]
  },
  {
   "cell_type": "code",
   "execution_count": 29,
   "id": "010e47b6",
   "metadata": {},
   "outputs": [],
   "source": [
    "# Saving the dataframe\n",
    "df.to_csv('datasets/my_new_appdata10.csv', index = False)"
   ]
  },
  {
   "cell_type": "markdown",
   "id": "e2bf5834",
   "metadata": {},
   "source": [
    "## Prediction Model"
   ]
  },
  {
   "cell_type": "code",
   "execution_count": 30,
   "id": "bf6f424f",
   "metadata": {},
   "outputs": [],
   "source": [
    "model_df = pd.read_csv('datasets/my_new_appdata10.csv')"
   ]
  },
  {
   "cell_type": "code",
   "execution_count": 31,
   "id": "0e8ff7a2",
   "metadata": {},
   "outputs": [
    {
     "data": {
      "text/html": [
       "<div>\n",
       "<style scoped>\n",
       "    .dataframe tbody tr th:only-of-type {\n",
       "        vertical-align: middle;\n",
       "    }\n",
       "\n",
       "    .dataframe tbody tr th {\n",
       "        vertical-align: top;\n",
       "    }\n",
       "\n",
       "    .dataframe thead th {\n",
       "        text-align: right;\n",
       "    }\n",
       "</style>\n",
       "<table border=\"1\" class=\"dataframe\">\n",
       "  <thead>\n",
       "    <tr style=\"text-align: right;\">\n",
       "      <th></th>\n",
       "      <th>user</th>\n",
       "      <th>dayofweek</th>\n",
       "      <th>hour</th>\n",
       "      <th>age</th>\n",
       "      <th>numscreens</th>\n",
       "      <th>minigame</th>\n",
       "      <th>used_premium_feature</th>\n",
       "      <th>enrolled</th>\n",
       "      <th>liked</th>\n",
       "      <th>location</th>\n",
       "      <th>...</th>\n",
       "      <th>SecurityModal</th>\n",
       "      <th>ResendToken</th>\n",
       "      <th>TransactionList</th>\n",
       "      <th>NetworkFailure</th>\n",
       "      <th>ListPicker</th>\n",
       "      <th>Other</th>\n",
       "      <th>SavingCount</th>\n",
       "      <th>CMCount</th>\n",
       "      <th>CCCount</th>\n",
       "      <th>LoansCount</th>\n",
       "    </tr>\n",
       "  </thead>\n",
       "  <tbody>\n",
       "    <tr>\n",
       "      <th>0</th>\n",
       "      <td>235136</td>\n",
       "      <td>3</td>\n",
       "      <td>2</td>\n",
       "      <td>23</td>\n",
       "      <td>15</td>\n",
       "      <td>0</td>\n",
       "      <td>0</td>\n",
       "      <td>0</td>\n",
       "      <td>0</td>\n",
       "      <td>0</td>\n",
       "      <td>...</td>\n",
       "      <td>0</td>\n",
       "      <td>0</td>\n",
       "      <td>0</td>\n",
       "      <td>0</td>\n",
       "      <td>0</td>\n",
       "      <td>7</td>\n",
       "      <td>0</td>\n",
       "      <td>0</td>\n",
       "      <td>0</td>\n",
       "      <td>1</td>\n",
       "    </tr>\n",
       "    <tr>\n",
       "      <th>1</th>\n",
       "      <td>333588</td>\n",
       "      <td>6</td>\n",
       "      <td>1</td>\n",
       "      <td>24</td>\n",
       "      <td>13</td>\n",
       "      <td>0</td>\n",
       "      <td>0</td>\n",
       "      <td>0</td>\n",
       "      <td>0</td>\n",
       "      <td>1</td>\n",
       "      <td>...</td>\n",
       "      <td>0</td>\n",
       "      <td>0</td>\n",
       "      <td>0</td>\n",
       "      <td>0</td>\n",
       "      <td>0</td>\n",
       "      <td>5</td>\n",
       "      <td>0</td>\n",
       "      <td>0</td>\n",
       "      <td>0</td>\n",
       "      <td>1</td>\n",
       "    </tr>\n",
       "    <tr>\n",
       "      <th>2</th>\n",
       "      <td>254414</td>\n",
       "      <td>1</td>\n",
       "      <td>19</td>\n",
       "      <td>23</td>\n",
       "      <td>3</td>\n",
       "      <td>0</td>\n",
       "      <td>1</td>\n",
       "      <td>0</td>\n",
       "      <td>1</td>\n",
       "      <td>0</td>\n",
       "      <td>...</td>\n",
       "      <td>0</td>\n",
       "      <td>0</td>\n",
       "      <td>0</td>\n",
       "      <td>0</td>\n",
       "      <td>0</td>\n",
       "      <td>0</td>\n",
       "      <td>0</td>\n",
       "      <td>0</td>\n",
       "      <td>0</td>\n",
       "      <td>1</td>\n",
       "    </tr>\n",
       "    <tr>\n",
       "      <th>3</th>\n",
       "      <td>234192</td>\n",
       "      <td>4</td>\n",
       "      <td>16</td>\n",
       "      <td>28</td>\n",
       "      <td>40</td>\n",
       "      <td>0</td>\n",
       "      <td>0</td>\n",
       "      <td>1</td>\n",
       "      <td>0</td>\n",
       "      <td>1</td>\n",
       "      <td>...</td>\n",
       "      <td>0</td>\n",
       "      <td>0</td>\n",
       "      <td>0</td>\n",
       "      <td>0</td>\n",
       "      <td>0</td>\n",
       "      <td>6</td>\n",
       "      <td>0</td>\n",
       "      <td>3</td>\n",
       "      <td>0</td>\n",
       "      <td>1</td>\n",
       "    </tr>\n",
       "    <tr>\n",
       "      <th>4</th>\n",
       "      <td>51549</td>\n",
       "      <td>1</td>\n",
       "      <td>18</td>\n",
       "      <td>31</td>\n",
       "      <td>32</td>\n",
       "      <td>0</td>\n",
       "      <td>0</td>\n",
       "      <td>1</td>\n",
       "      <td>1</td>\n",
       "      <td>0</td>\n",
       "      <td>...</td>\n",
       "      <td>0</td>\n",
       "      <td>0</td>\n",
       "      <td>0</td>\n",
       "      <td>0</td>\n",
       "      <td>0</td>\n",
       "      <td>10</td>\n",
       "      <td>0</td>\n",
       "      <td>2</td>\n",
       "      <td>0</td>\n",
       "      <td>1</td>\n",
       "    </tr>\n",
       "    <tr>\n",
       "      <th>...</th>\n",
       "      <td>...</td>\n",
       "      <td>...</td>\n",
       "      <td>...</td>\n",
       "      <td>...</td>\n",
       "      <td>...</td>\n",
       "      <td>...</td>\n",
       "      <td>...</td>\n",
       "      <td>...</td>\n",
       "      <td>...</td>\n",
       "      <td>...</td>\n",
       "      <td>...</td>\n",
       "      <td>...</td>\n",
       "      <td>...</td>\n",
       "      <td>...</td>\n",
       "      <td>...</td>\n",
       "      <td>...</td>\n",
       "      <td>...</td>\n",
       "      <td>...</td>\n",
       "      <td>...</td>\n",
       "      <td>...</td>\n",
       "      <td>...</td>\n",
       "    </tr>\n",
       "    <tr>\n",
       "      <th>49995</th>\n",
       "      <td>222774</td>\n",
       "      <td>3</td>\n",
       "      <td>13</td>\n",
       "      <td>32</td>\n",
       "      <td>13</td>\n",
       "      <td>0</td>\n",
       "      <td>0</td>\n",
       "      <td>1</td>\n",
       "      <td>0</td>\n",
       "      <td>0</td>\n",
       "      <td>...</td>\n",
       "      <td>0</td>\n",
       "      <td>0</td>\n",
       "      <td>0</td>\n",
       "      <td>0</td>\n",
       "      <td>0</td>\n",
       "      <td>6</td>\n",
       "      <td>0</td>\n",
       "      <td>2</td>\n",
       "      <td>0</td>\n",
       "      <td>0</td>\n",
       "    </tr>\n",
       "    <tr>\n",
       "      <th>49996</th>\n",
       "      <td>169179</td>\n",
       "      <td>1</td>\n",
       "      <td>0</td>\n",
       "      <td>35</td>\n",
       "      <td>4</td>\n",
       "      <td>0</td>\n",
       "      <td>1</td>\n",
       "      <td>0</td>\n",
       "      <td>0</td>\n",
       "      <td>0</td>\n",
       "      <td>...</td>\n",
       "      <td>0</td>\n",
       "      <td>0</td>\n",
       "      <td>0</td>\n",
       "      <td>0</td>\n",
       "      <td>0</td>\n",
       "      <td>1</td>\n",
       "      <td>0</td>\n",
       "      <td>0</td>\n",
       "      <td>0</td>\n",
       "      <td>0</td>\n",
       "    </tr>\n",
       "    <tr>\n",
       "      <th>49997</th>\n",
       "      <td>302367</td>\n",
       "      <td>2</td>\n",
       "      <td>22</td>\n",
       "      <td>39</td>\n",
       "      <td>25</td>\n",
       "      <td>0</td>\n",
       "      <td>0</td>\n",
       "      <td>0</td>\n",
       "      <td>0</td>\n",
       "      <td>1</td>\n",
       "      <td>...</td>\n",
       "      <td>0</td>\n",
       "      <td>0</td>\n",
       "      <td>0</td>\n",
       "      <td>0</td>\n",
       "      <td>0</td>\n",
       "      <td>6</td>\n",
       "      <td>0</td>\n",
       "      <td>0</td>\n",
       "      <td>0</td>\n",
       "      <td>0</td>\n",
       "    </tr>\n",
       "    <tr>\n",
       "      <th>49998</th>\n",
       "      <td>324905</td>\n",
       "      <td>6</td>\n",
       "      <td>12</td>\n",
       "      <td>27</td>\n",
       "      <td>26</td>\n",
       "      <td>0</td>\n",
       "      <td>0</td>\n",
       "      <td>1</td>\n",
       "      <td>0</td>\n",
       "      <td>1</td>\n",
       "      <td>...</td>\n",
       "      <td>0</td>\n",
       "      <td>0</td>\n",
       "      <td>0</td>\n",
       "      <td>0</td>\n",
       "      <td>0</td>\n",
       "      <td>13</td>\n",
       "      <td>0</td>\n",
       "      <td>0</td>\n",
       "      <td>0</td>\n",
       "      <td>0</td>\n",
       "    </tr>\n",
       "    <tr>\n",
       "      <th>49999</th>\n",
       "      <td>27047</td>\n",
       "      <td>4</td>\n",
       "      <td>1</td>\n",
       "      <td>25</td>\n",
       "      <td>26</td>\n",
       "      <td>0</td>\n",
       "      <td>0</td>\n",
       "      <td>0</td>\n",
       "      <td>1</td>\n",
       "      <td>0</td>\n",
       "      <td>...</td>\n",
       "      <td>0</td>\n",
       "      <td>0</td>\n",
       "      <td>0</td>\n",
       "      <td>0</td>\n",
       "      <td>0</td>\n",
       "      <td>5</td>\n",
       "      <td>7</td>\n",
       "      <td>0</td>\n",
       "      <td>0</td>\n",
       "      <td>1</td>\n",
       "    </tr>\n",
       "  </tbody>\n",
       "</table>\n",
       "<p>50000 rows × 50 columns</p>\n",
       "</div>"
      ],
      "text/plain": [
       "         user  dayofweek  hour  age  numscreens  minigame  \\\n",
       "0      235136          3     2   23          15         0   \n",
       "1      333588          6     1   24          13         0   \n",
       "2      254414          1    19   23           3         0   \n",
       "3      234192          4    16   28          40         0   \n",
       "4       51549          1    18   31          32         0   \n",
       "...       ...        ...   ...  ...         ...       ...   \n",
       "49995  222774          3    13   32          13         0   \n",
       "49996  169179          1     0   35           4         0   \n",
       "49997  302367          2    22   39          25         0   \n",
       "49998  324905          6    12   27          26         0   \n",
       "49999   27047          4     1   25          26         0   \n",
       "\n",
       "       used_premium_feature  enrolled  liked  location  ...  SecurityModal  \\\n",
       "0                         0         0      0         0  ...              0   \n",
       "1                         0         0      0         1  ...              0   \n",
       "2                         1         0      1         0  ...              0   \n",
       "3                         0         1      0         1  ...              0   \n",
       "4                         0         1      1         0  ...              0   \n",
       "...                     ...       ...    ...       ...  ...            ...   \n",
       "49995                     0         1      0         0  ...              0   \n",
       "49996                     1         0      0         0  ...              0   \n",
       "49997                     0         0      0         1  ...              0   \n",
       "49998                     0         1      0         1  ...              0   \n",
       "49999                     0         0      1         0  ...              0   \n",
       "\n",
       "       ResendToken  TransactionList  NetworkFailure  ListPicker  Other  \\\n",
       "0                0                0               0           0      7   \n",
       "1                0                0               0           0      5   \n",
       "2                0                0               0           0      0   \n",
       "3                0                0               0           0      6   \n",
       "4                0                0               0           0     10   \n",
       "...            ...              ...             ...         ...    ...   \n",
       "49995            0                0               0           0      6   \n",
       "49996            0                0               0           0      1   \n",
       "49997            0                0               0           0      6   \n",
       "49998            0                0               0           0     13   \n",
       "49999            0                0               0           0      5   \n",
       "\n",
       "       SavingCount  CMCount  CCCount  LoansCount  \n",
       "0                0        0        0           1  \n",
       "1                0        0        0           1  \n",
       "2                0        0        0           1  \n",
       "3                0        3        0           1  \n",
       "4                0        2        0           1  \n",
       "...            ...      ...      ...         ...  \n",
       "49995            0        2        0           0  \n",
       "49996            0        0        0           0  \n",
       "49997            0        0        0           0  \n",
       "49998            0        0        0           0  \n",
       "49999            7        0        0           1  \n",
       "\n",
       "[50000 rows x 50 columns]"
      ]
     },
     "execution_count": 31,
     "metadata": {},
     "output_type": "execute_result"
    }
   ],
   "source": [
    "model_df"
   ]
  },
  {
   "cell_type": "markdown",
   "id": "e6294ec1",
   "metadata": {},
   "source": [
    "### Data Pre-processing"
   ]
  },
  {
   "cell_type": "code",
   "execution_count": 35,
   "id": "84ca3f00",
   "metadata": {},
   "outputs": [],
   "source": [
    "X = model_df.drop('enrolled',axis=1)\n",
    "y = model_df['enrolled']"
   ]
  },
  {
   "cell_type": "code",
   "execution_count": 36,
   "id": "6260c2c2",
   "metadata": {},
   "outputs": [],
   "source": [
    "from sklearn.model_selection import train_test_split"
   ]
  },
  {
   "cell_type": "code",
   "execution_count": 37,
   "id": "8904c82f",
   "metadata": {},
   "outputs": [],
   "source": [
    "X_train, X_test, y_train, y_test = train_test_split(X, y, test_size=0.2, random_state=0)"
   ]
  },
  {
   "cell_type": "code",
   "execution_count": 38,
   "id": "8c025653",
   "metadata": {},
   "outputs": [],
   "source": [
    "train_identifier = X_train['user']\n",
    "X_train = X_train.drop('user',axis=1)\n",
    "test_identifier = X_test['user']\n",
    "X_test = X_test.drop('user',axis=1)"
   ]
  },
  {
   "cell_type": "markdown",
   "id": "d2502287",
   "metadata": {},
   "source": [
    "### Feature scaling"
   ]
  },
  {
   "cell_type": "code",
   "execution_count": 39,
   "id": "e779fcb7",
   "metadata": {},
   "outputs": [],
   "source": [
    "from sklearn.preprocessing import StandardScaler"
   ]
  },
  {
   "cell_type": "code",
   "execution_count": 40,
   "id": "ea258fda",
   "metadata": {},
   "outputs": [],
   "source": [
    "sc = StandardScaler()"
   ]
  },
  {
   "cell_type": "code",
   "execution_count": 41,
   "id": "54b8f6ff",
   "metadata": {},
   "outputs": [],
   "source": [
    "X_train2 = pd.DataFrame(sc.fit_transform(X_train))\n",
    "X_test2 = pd.DataFrame(sc.fit_transform(X_test))"
   ]
  },
  {
   "cell_type": "code",
   "execution_count": 44,
   "id": "4348999d",
   "metadata": {},
   "outputs": [
    {
     "data": {
      "text/html": [
       "<div>\n",
       "<style scoped>\n",
       "    .dataframe tbody tr th:only-of-type {\n",
       "        vertical-align: middle;\n",
       "    }\n",
       "\n",
       "    .dataframe tbody tr th {\n",
       "        vertical-align: top;\n",
       "    }\n",
       "\n",
       "    .dataframe thead th {\n",
       "        text-align: right;\n",
       "    }\n",
       "</style>\n",
       "<table border=\"1\" class=\"dataframe\">\n",
       "  <thead>\n",
       "    <tr style=\"text-align: right;\">\n",
       "      <th></th>\n",
       "      <th>0</th>\n",
       "      <th>1</th>\n",
       "      <th>2</th>\n",
       "      <th>3</th>\n",
       "      <th>4</th>\n",
       "      <th>5</th>\n",
       "      <th>6</th>\n",
       "      <th>7</th>\n",
       "      <th>8</th>\n",
       "      <th>9</th>\n",
       "      <th>...</th>\n",
       "      <th>38</th>\n",
       "      <th>39</th>\n",
       "      <th>40</th>\n",
       "      <th>41</th>\n",
       "      <th>42</th>\n",
       "      <th>43</th>\n",
       "      <th>44</th>\n",
       "      <th>45</th>\n",
       "      <th>46</th>\n",
       "      <th>47</th>\n",
       "    </tr>\n",
       "  </thead>\n",
       "  <tbody>\n",
       "    <tr>\n",
       "      <th>0</th>\n",
       "      <td>-0.504961</td>\n",
       "      <td>1.000837</td>\n",
       "      <td>0.025525</td>\n",
       "      <td>-1.026726</td>\n",
       "      <td>-0.346830</td>\n",
       "      <td>2.186018</td>\n",
       "      <td>2.246319</td>\n",
       "      <td>-1.039218</td>\n",
       "      <td>-0.644848</td>\n",
       "      <td>-1.052581</td>\n",
       "      <td>...</td>\n",
       "      <td>-0.119697</td>\n",
       "      <td>-0.11742</td>\n",
       "      <td>-0.115879</td>\n",
       "      <td>-0.091207</td>\n",
       "      <td>-0.087221</td>\n",
       "      <td>-1.147303</td>\n",
       "      <td>-0.260877</td>\n",
       "      <td>-0.763372</td>\n",
       "      <td>-0.289185</td>\n",
       "      <td>1.785389</td>\n",
       "    </tr>\n",
       "    <tr>\n",
       "      <th>1</th>\n",
       "      <td>-0.997389</td>\n",
       "      <td>1.135280</td>\n",
       "      <td>-0.898034</td>\n",
       "      <td>1.328829</td>\n",
       "      <td>2.883254</td>\n",
       "      <td>-0.457453</td>\n",
       "      <td>-0.445173</td>\n",
       "      <td>0.962262</td>\n",
       "      <td>1.550753</td>\n",
       "      <td>0.950046</td>\n",
       "      <td>...</td>\n",
       "      <td>-0.119697</td>\n",
       "      <td>-0.11742</td>\n",
       "      <td>-0.115879</td>\n",
       "      <td>-0.091207</td>\n",
       "      <td>-0.087221</td>\n",
       "      <td>1.839740</td>\n",
       "      <td>-0.260877</td>\n",
       "      <td>0.057524</td>\n",
       "      <td>-0.289185</td>\n",
       "      <td>0.309800</td>\n",
       "    </tr>\n",
       "    <tr>\n",
       "      <th>2</th>\n",
       "      <td>-1.489818</td>\n",
       "      <td>-1.150250</td>\n",
       "      <td>-0.528611</td>\n",
       "      <td>4.066366</td>\n",
       "      <td>2.883254</td>\n",
       "      <td>-0.457453</td>\n",
       "      <td>-0.445173</td>\n",
       "      <td>-1.039218</td>\n",
       "      <td>1.550753</td>\n",
       "      <td>-1.052581</td>\n",
       "      <td>...</td>\n",
       "      <td>-0.119697</td>\n",
       "      <td>-0.11742</td>\n",
       "      <td>-0.115879</td>\n",
       "      <td>-0.091207</td>\n",
       "      <td>-0.087221</td>\n",
       "      <td>1.025092</td>\n",
       "      <td>-0.260877</td>\n",
       "      <td>0.878421</td>\n",
       "      <td>1.336593</td>\n",
       "      <td>1.785389</td>\n",
       "    </tr>\n",
       "    <tr>\n",
       "      <th>3</th>\n",
       "      <td>0.479896</td>\n",
       "      <td>0.059736</td>\n",
       "      <td>-0.620967</td>\n",
       "      <td>0.182883</td>\n",
       "      <td>2.883254</td>\n",
       "      <td>-0.457453</td>\n",
       "      <td>-0.445173</td>\n",
       "      <td>0.962262</td>\n",
       "      <td>-0.644848</td>\n",
       "      <td>-1.052581</td>\n",
       "      <td>...</td>\n",
       "      <td>-0.119697</td>\n",
       "      <td>-0.11742</td>\n",
       "      <td>-0.115879</td>\n",
       "      <td>-0.091207</td>\n",
       "      <td>-0.087221</td>\n",
       "      <td>1.025092</td>\n",
       "      <td>-0.260877</td>\n",
       "      <td>-0.763372</td>\n",
       "      <td>-0.289185</td>\n",
       "      <td>0.309800</td>\n",
       "    </tr>\n",
       "    <tr>\n",
       "      <th>4</th>\n",
       "      <td>-0.012532</td>\n",
       "      <td>0.463065</td>\n",
       "      <td>1.687932</td>\n",
       "      <td>-0.644744</td>\n",
       "      <td>-0.346830</td>\n",
       "      <td>-0.457453</td>\n",
       "      <td>-0.445173</td>\n",
       "      <td>0.962262</td>\n",
       "      <td>-0.644848</td>\n",
       "      <td>0.950046</td>\n",
       "      <td>...</td>\n",
       "      <td>-0.119697</td>\n",
       "      <td>-0.11742</td>\n",
       "      <td>-0.115879</td>\n",
       "      <td>-0.091207</td>\n",
       "      <td>-0.087221</td>\n",
       "      <td>-0.875753</td>\n",
       "      <td>-0.260877</td>\n",
       "      <td>0.878421</td>\n",
       "      <td>-0.289185</td>\n",
       "      <td>-1.165789</td>\n",
       "    </tr>\n",
       "    <tr>\n",
       "      <th>...</th>\n",
       "      <td>...</td>\n",
       "      <td>...</td>\n",
       "      <td>...</td>\n",
       "      <td>...</td>\n",
       "      <td>...</td>\n",
       "      <td>...</td>\n",
       "      <td>...</td>\n",
       "      <td>...</td>\n",
       "      <td>...</td>\n",
       "      <td>...</td>\n",
       "      <td>...</td>\n",
       "      <td>...</td>\n",
       "      <td>...</td>\n",
       "      <td>...</td>\n",
       "      <td>...</td>\n",
       "      <td>...</td>\n",
       "      <td>...</td>\n",
       "      <td>...</td>\n",
       "      <td>...</td>\n",
       "      <td>...</td>\n",
       "      <td>...</td>\n",
       "    </tr>\n",
       "    <tr>\n",
       "      <th>39995</th>\n",
       "      <td>0.972325</td>\n",
       "      <td>1.404166</td>\n",
       "      <td>-1.175102</td>\n",
       "      <td>-0.963062</td>\n",
       "      <td>-0.346830</td>\n",
       "      <td>-0.457453</td>\n",
       "      <td>-0.445173</td>\n",
       "      <td>-1.039218</td>\n",
       "      <td>-0.644848</td>\n",
       "      <td>-1.052581</td>\n",
       "      <td>...</td>\n",
       "      <td>-0.119697</td>\n",
       "      <td>-0.11742</td>\n",
       "      <td>-0.115879</td>\n",
       "      <td>-0.091207</td>\n",
       "      <td>-0.087221</td>\n",
       "      <td>-1.147303</td>\n",
       "      <td>-0.260877</td>\n",
       "      <td>-0.763372</td>\n",
       "      <td>-0.289185</td>\n",
       "      <td>-1.165789</td>\n",
       "    </tr>\n",
       "    <tr>\n",
       "      <th>39996</th>\n",
       "      <td>-1.489818</td>\n",
       "      <td>0.328622</td>\n",
       "      <td>-0.898034</td>\n",
       "      <td>-1.090390</td>\n",
       "      <td>2.883254</td>\n",
       "      <td>2.186018</td>\n",
       "      <td>-0.445173</td>\n",
       "      <td>-1.039218</td>\n",
       "      <td>-0.644848</td>\n",
       "      <td>-1.052581</td>\n",
       "      <td>...</td>\n",
       "      <td>-0.119697</td>\n",
       "      <td>-0.11742</td>\n",
       "      <td>-0.115879</td>\n",
       "      <td>-0.091207</td>\n",
       "      <td>-0.087221</td>\n",
       "      <td>-1.418852</td>\n",
       "      <td>-0.260877</td>\n",
       "      <td>0.057524</td>\n",
       "      <td>-0.289185</td>\n",
       "      <td>0.309800</td>\n",
       "    </tr>\n",
       "    <tr>\n",
       "      <th>39997</th>\n",
       "      <td>-0.012532</td>\n",
       "      <td>-0.881364</td>\n",
       "      <td>-0.620967</td>\n",
       "      <td>1.392493</td>\n",
       "      <td>-0.346830</td>\n",
       "      <td>-0.457453</td>\n",
       "      <td>-0.445173</td>\n",
       "      <td>-1.039218</td>\n",
       "      <td>1.550753</td>\n",
       "      <td>-1.052581</td>\n",
       "      <td>...</td>\n",
       "      <td>-0.119697</td>\n",
       "      <td>-0.11742</td>\n",
       "      <td>-0.115879</td>\n",
       "      <td>-0.091207</td>\n",
       "      <td>-0.087221</td>\n",
       "      <td>-0.604204</td>\n",
       "      <td>3.976153</td>\n",
       "      <td>-0.763372</td>\n",
       "      <td>-0.289185</td>\n",
       "      <td>-1.165789</td>\n",
       "    </tr>\n",
       "    <tr>\n",
       "      <th>39998</th>\n",
       "      <td>0.479896</td>\n",
       "      <td>0.059736</td>\n",
       "      <td>-0.436255</td>\n",
       "      <td>-1.090390</td>\n",
       "      <td>2.883254</td>\n",
       "      <td>-0.457453</td>\n",
       "      <td>2.246319</td>\n",
       "      <td>-1.039218</td>\n",
       "      <td>-0.644848</td>\n",
       "      <td>-1.052581</td>\n",
       "      <td>...</td>\n",
       "      <td>-0.119697</td>\n",
       "      <td>-0.11742</td>\n",
       "      <td>-0.115879</td>\n",
       "      <td>-0.091207</td>\n",
       "      <td>-0.087221</td>\n",
       "      <td>-1.147303</td>\n",
       "      <td>-0.260877</td>\n",
       "      <td>-0.763372</td>\n",
       "      <td>-0.289185</td>\n",
       "      <td>-1.165789</td>\n",
       "    </tr>\n",
       "    <tr>\n",
       "      <th>39999</th>\n",
       "      <td>-0.997389</td>\n",
       "      <td>0.731951</td>\n",
       "      <td>-1.082746</td>\n",
       "      <td>-0.517417</td>\n",
       "      <td>-0.346830</td>\n",
       "      <td>-0.457453</td>\n",
       "      <td>2.246319</td>\n",
       "      <td>0.962262</td>\n",
       "      <td>-0.644848</td>\n",
       "      <td>0.950046</td>\n",
       "      <td>...</td>\n",
       "      <td>-0.119697</td>\n",
       "      <td>-0.11742</td>\n",
       "      <td>-0.115879</td>\n",
       "      <td>-0.091207</td>\n",
       "      <td>-0.087221</td>\n",
       "      <td>0.210444</td>\n",
       "      <td>-0.260877</td>\n",
       "      <td>-0.763372</td>\n",
       "      <td>-0.289185</td>\n",
       "      <td>0.309800</td>\n",
       "    </tr>\n",
       "  </tbody>\n",
       "</table>\n",
       "<p>40000 rows × 48 columns</p>\n",
       "</div>"
      ],
      "text/plain": [
       "             0         1         2         3         4         5         6   \\\n",
       "0     -0.504961  1.000837  0.025525 -1.026726 -0.346830  2.186018  2.246319   \n",
       "1     -0.997389  1.135280 -0.898034  1.328829  2.883254 -0.457453 -0.445173   \n",
       "2     -1.489818 -1.150250 -0.528611  4.066366  2.883254 -0.457453 -0.445173   \n",
       "3      0.479896  0.059736 -0.620967  0.182883  2.883254 -0.457453 -0.445173   \n",
       "4     -0.012532  0.463065  1.687932 -0.644744 -0.346830 -0.457453 -0.445173   \n",
       "...         ...       ...       ...       ...       ...       ...       ...   \n",
       "39995  0.972325  1.404166 -1.175102 -0.963062 -0.346830 -0.457453 -0.445173   \n",
       "39996 -1.489818  0.328622 -0.898034 -1.090390  2.883254  2.186018 -0.445173   \n",
       "39997 -0.012532 -0.881364 -0.620967  1.392493 -0.346830 -0.457453 -0.445173   \n",
       "39998  0.479896  0.059736 -0.436255 -1.090390  2.883254 -0.457453  2.246319   \n",
       "39999 -0.997389  0.731951 -1.082746 -0.517417 -0.346830 -0.457453  2.246319   \n",
       "\n",
       "             7         8         9   ...        38       39        40  \\\n",
       "0     -1.039218 -0.644848 -1.052581  ... -0.119697 -0.11742 -0.115879   \n",
       "1      0.962262  1.550753  0.950046  ... -0.119697 -0.11742 -0.115879   \n",
       "2     -1.039218  1.550753 -1.052581  ... -0.119697 -0.11742 -0.115879   \n",
       "3      0.962262 -0.644848 -1.052581  ... -0.119697 -0.11742 -0.115879   \n",
       "4      0.962262 -0.644848  0.950046  ... -0.119697 -0.11742 -0.115879   \n",
       "...         ...       ...       ...  ...       ...      ...       ...   \n",
       "39995 -1.039218 -0.644848 -1.052581  ... -0.119697 -0.11742 -0.115879   \n",
       "39996 -1.039218 -0.644848 -1.052581  ... -0.119697 -0.11742 -0.115879   \n",
       "39997 -1.039218  1.550753 -1.052581  ... -0.119697 -0.11742 -0.115879   \n",
       "39998 -1.039218 -0.644848 -1.052581  ... -0.119697 -0.11742 -0.115879   \n",
       "39999  0.962262 -0.644848  0.950046  ... -0.119697 -0.11742 -0.115879   \n",
       "\n",
       "             41        42        43        44        45        46        47  \n",
       "0     -0.091207 -0.087221 -1.147303 -0.260877 -0.763372 -0.289185  1.785389  \n",
       "1     -0.091207 -0.087221  1.839740 -0.260877  0.057524 -0.289185  0.309800  \n",
       "2     -0.091207 -0.087221  1.025092 -0.260877  0.878421  1.336593  1.785389  \n",
       "3     -0.091207 -0.087221  1.025092 -0.260877 -0.763372 -0.289185  0.309800  \n",
       "4     -0.091207 -0.087221 -0.875753 -0.260877  0.878421 -0.289185 -1.165789  \n",
       "...         ...       ...       ...       ...       ...       ...       ...  \n",
       "39995 -0.091207 -0.087221 -1.147303 -0.260877 -0.763372 -0.289185 -1.165789  \n",
       "39996 -0.091207 -0.087221 -1.418852 -0.260877  0.057524 -0.289185  0.309800  \n",
       "39997 -0.091207 -0.087221 -0.604204  3.976153 -0.763372 -0.289185 -1.165789  \n",
       "39998 -0.091207 -0.087221 -1.147303 -0.260877 -0.763372 -0.289185 -1.165789  \n",
       "39999 -0.091207 -0.087221  0.210444 -0.260877 -0.763372 -0.289185  0.309800  \n",
       "\n",
       "[40000 rows x 48 columns]"
      ]
     },
     "execution_count": 44,
     "metadata": {},
     "output_type": "execute_result"
    }
   ],
   "source": [
    "X_train2"
   ]
  },
  {
   "cell_type": "code",
   "execution_count": 45,
   "id": "4c75b764",
   "metadata": {},
   "outputs": [],
   "source": [
    "X_train2.columns = X_train.columns.values\n",
    "X_test2.columns = X_test.columns.values"
   ]
  },
  {
   "cell_type": "code",
   "execution_count": 46,
   "id": "2261a001",
   "metadata": {},
   "outputs": [],
   "source": [
    "X_train2.index = X_train.index.values\n",
    "X_test2.index = X_test.index.values"
   ]
  },
  {
   "cell_type": "code",
   "execution_count": 47,
   "id": "5f8332ee",
   "metadata": {},
   "outputs": [],
   "source": [
    "X_train = X_train2  # to evaluate and compare the results later on\n",
    "X_test = X_test2  # idem"
   ]
  },
  {
   "cell_type": "markdown",
   "id": "9c0ea2e9",
   "metadata": {},
   "source": [
    "## Model building"
   ]
  },
  {
   "cell_type": "code",
   "execution_count": 48,
   "id": "f7903a50",
   "metadata": {},
   "outputs": [],
   "source": [
    "from sklearn.linear_model import LogisticRegression"
   ]
  },
  {
   "cell_type": "markdown",
   "id": "565fad86",
   "metadata": {},
   "source": [
    "### Fitting Model to the Training Set"
   ]
  },
  {
   "cell_type": "code",
   "execution_count": 55,
   "id": "c7ed0d80",
   "metadata": {},
   "outputs": [],
   "source": [
    "classifier = LogisticRegression(random_state=0, penalty='l2') # the penalty is here to avoid the correlation between 2 screens"
   ]
  },
  {
   "cell_type": "code",
   "execution_count": 56,
   "id": "6a560945",
   "metadata": {},
   "outputs": [
    {
     "data": {
      "text/plain": [
       "LogisticRegression(random_state=0)"
      ]
     },
     "execution_count": 56,
     "metadata": {},
     "output_type": "execute_result"
    }
   ],
   "source": [
    "classifier.fit(X_train, y_train)"
   ]
  },
  {
   "cell_type": "markdown",
   "id": "3ec1d1d4",
   "metadata": {},
   "source": [
    "### Predicting test set"
   ]
  },
  {
   "cell_type": "code",
   "execution_count": 57,
   "id": "7c897165",
   "metadata": {},
   "outputs": [],
   "source": [
    "prediction = classifier.predict(X_test)"
   ]
  },
  {
   "cell_type": "markdown",
   "id": "974d4c3a",
   "metadata": {},
   "source": [
    "### Evaluating results"
   ]
  },
  {
   "cell_type": "code",
   "execution_count": 73,
   "id": "aa3058a2",
   "metadata": {},
   "outputs": [],
   "source": [
    "from sklearn.metrics import confusion_matrix, accuracy_score, f1_score, precision_score, recall_score \n",
    "# Here, accuracy_score, f1_score, precision_score, recall_score is another method to call out the metrics reported in the \n",
    "# classification report(used down below)"
   ]
  },
  {
   "cell_type": "code",
   "execution_count": 60,
   "id": "a1a0accf",
   "metadata": {},
   "outputs": [],
   "source": [
    "cm = confusion_matrix(y_test, prediction)"
   ]
  },
  {
   "cell_type": "code",
   "execution_count": 61,
   "id": "b66bf4d7",
   "metadata": {},
   "outputs": [
    {
     "data": {
      "text/plain": [
       "0.7679"
      ]
     },
     "execution_count": 61,
     "metadata": {},
     "output_type": "execute_result"
    }
   ],
   "source": [
    "accuracy_score(y_test, prediction)"
   ]
  },
  {
   "cell_type": "code",
   "execution_count": 69,
   "id": "5e32d353",
   "metadata": {},
   "outputs": [
    {
     "name": "stdout",
     "output_type": "stream",
     "text": [
      "Test Data Accuracy: 0.768\n"
     ]
    },
    {
     "data": {
      "image/png": "[encoded data removed]",
      "text/plain": [
       "<Figure size 432x288 with 2 Axes>"
      ]
     },
     "metadata": {},
     "output_type": "display_data"
    }
   ],
   "source": [
    "df_cm = pd.DataFrame(cm, index = (0, 1), columns = (0, 1))\n",
    "sns.heatmap(df_cm, annot=True, fmt='g')\n",
    "print(\"Test Data Accuracy: %0.3f\" % accuracy_score(y_test, prediction))"
   ]
  },
  {
   "cell_type": "code",
   "execution_count": 74,
   "id": "6113586d",
   "metadata": {},
   "outputs": [],
   "source": [
    "# Using the classification report"
   ]
  },
  {
   "cell_type": "code",
   "execution_count": 70,
   "id": "8f4c42ee",
   "metadata": {},
   "outputs": [],
   "source": [
    "from sklearn.metrics import classification_report"
   ]
  },
  {
   "cell_type": "code",
   "execution_count": 72,
   "id": "f7f3082f",
   "metadata": {},
   "outputs": [
    {
     "name": "stdout",
     "output_type": "stream",
     "text": [
      "Classification report\n",
      "              precision    recall  f1-score   support\n",
      "\n",
      "           0       0.77      0.76      0.77      5072\n",
      "           1       0.76      0.77      0.77      4928\n",
      "\n",
      "    accuracy                           0.77     10000\n",
      "   macro avg       0.77      0.77      0.77     10000\n",
      "weighted avg       0.77      0.77      0.77     10000\n",
      "\n"
     ]
    }
   ],
   "source": [
    "print('Classification report')\n",
    "print(classification_report(y_test, prediction))"
   ]
  },
  {
   "cell_type": "markdown",
   "id": "08c0958f",
   "metadata": {},
   "source": [
    "### Applying k-Fold Cross Validation"
   ]
  },
  {
   "cell_type": "code",
   "execution_count": 75,
   "id": "c712fef2",
   "metadata": {},
   "outputs": [],
   "source": [
    "from sklearn.model_selection import cross_val_score"
   ]
  },
  {
   "cell_type": "code",
   "execution_count": 76,
   "id": "3baf91d5",
   "metadata": {},
   "outputs": [],
   "source": [
    "accuracies = cross_val_score(X = X_train, y = y_train, estimator = classifier, cv=10)"
   ]
  },
  {
   "cell_type": "code",
   "execution_count": 77,
   "id": "a927fae3",
   "metadata": {},
   "outputs": [
    {
     "name": "stdout",
     "output_type": "stream",
     "text": [
      "[0.76875 0.7665  0.77675 0.76625 0.76475 0.76775 0.7625  0.76725 0.7725\n",
      " 0.75875]\n"
     ]
    }
   ],
   "source": [
    "print(accuracies)"
   ]
  },
  {
   "cell_type": "code",
   "execution_count": 78,
   "id": "ace57f39",
   "metadata": {},
   "outputs": [
    {
     "name": "stdout",
     "output_type": "stream",
     "text": [
      "0.767175 0.009442060156554829\n"
     ]
    }
   ],
   "source": [
    "print(accuracies.mean(), accuracies.std()*2)"
   ]
  },
  {
   "cell_type": "markdown",
   "id": "f99493fd",
   "metadata": {},
   "source": [
    "This is a very consistent and accurate algorithm!"
   ]
  },
  {
   "cell_type": "markdown",
   "id": "d9975c0d",
   "metadata": {},
   "source": [
    "### Formatting the final results"
   ]
  },
  {
   "cell_type": "markdown",
   "id": "6598e841",
   "metadata": {},
   "source": [
    "Here we we combine the predictive results, the actual results and th identity of the users."
   ]
  },
  {
   "cell_type": "code",
   "execution_count": 83,
   "id": "7a720bc9",
   "metadata": {},
   "outputs": [],
   "source": [
    "final_results = pd.concat([y_test, test_identifier], axis = 1).dropna()"
   ]
  },
  {
   "cell_type": "code",
   "execution_count": 84,
   "id": "02a894f5",
   "metadata": {},
   "outputs": [],
   "source": [
    "final_results['predicted_results'] = prediction"
   ]
  },
  {
   "cell_type": "code",
   "execution_count": 85,
   "id": "c3a2068e",
   "metadata": {},
   "outputs": [
    {
     "data": {
      "text/html": [
       "<div>\n",
       "<style scoped>\n",
       "    .dataframe tbody tr th:only-of-type {\n",
       "        vertical-align: middle;\n",
       "    }\n",
       "\n",
       "    .dataframe tbody tr th {\n",
       "        vertical-align: top;\n",
       "    }\n",
       "\n",
       "    .dataframe thead th {\n",
       "        text-align: right;\n",
       "    }\n",
       "</style>\n",
       "<table border=\"1\" class=\"dataframe\">\n",
       "  <thead>\n",
       "    <tr style=\"text-align: right;\">\n",
       "      <th></th>\n",
       "      <th>user</th>\n",
       "      <th>enrolled</th>\n",
       "      <th>predicted_results</th>\n",
       "    </tr>\n",
       "  </thead>\n",
       "  <tbody>\n",
       "    <tr>\n",
       "      <th>0</th>\n",
       "      <td>239786</td>\n",
       "      <td>1</td>\n",
       "      <td>1</td>\n",
       "    </tr>\n",
       "    <tr>\n",
       "      <th>1</th>\n",
       "      <td>279644</td>\n",
       "      <td>1</td>\n",
       "      <td>1</td>\n",
       "    </tr>\n",
       "    <tr>\n",
       "      <th>2</th>\n",
       "      <td>98290</td>\n",
       "      <td>0</td>\n",
       "      <td>0</td>\n",
       "    </tr>\n",
       "    <tr>\n",
       "      <th>3</th>\n",
       "      <td>170150</td>\n",
       "      <td>1</td>\n",
       "      <td>1</td>\n",
       "    </tr>\n",
       "    <tr>\n",
       "      <th>4</th>\n",
       "      <td>237568</td>\n",
       "      <td>1</td>\n",
       "      <td>1</td>\n",
       "    </tr>\n",
       "    <tr>\n",
       "      <th>...</th>\n",
       "      <td>...</td>\n",
       "      <td>...</td>\n",
       "      <td>...</td>\n",
       "    </tr>\n",
       "    <tr>\n",
       "      <th>9995</th>\n",
       "      <td>143036</td>\n",
       "      <td>1</td>\n",
       "      <td>0</td>\n",
       "    </tr>\n",
       "    <tr>\n",
       "      <th>9996</th>\n",
       "      <td>91158</td>\n",
       "      <td>1</td>\n",
       "      <td>1</td>\n",
       "    </tr>\n",
       "    <tr>\n",
       "      <th>9997</th>\n",
       "      <td>248318</td>\n",
       "      <td>0</td>\n",
       "      <td>0</td>\n",
       "    </tr>\n",
       "    <tr>\n",
       "      <th>9998</th>\n",
       "      <td>142418</td>\n",
       "      <td>1</td>\n",
       "      <td>1</td>\n",
       "    </tr>\n",
       "    <tr>\n",
       "      <th>9999</th>\n",
       "      <td>279355</td>\n",
       "      <td>1</td>\n",
       "      <td>1</td>\n",
       "    </tr>\n",
       "  </tbody>\n",
       "</table>\n",
       "<p>10000 rows × 3 columns</p>\n",
       "</div>"
      ],
      "text/plain": [
       "        user  enrolled  predicted_results\n",
       "0     239786         1                  1\n",
       "1     279644         1                  1\n",
       "2      98290         0                  0\n",
       "3     170150         1                  1\n",
       "4     237568         1                  1\n",
       "...      ...       ...                ...\n",
       "9995  143036         1                  0\n",
       "9996   91158         1                  1\n",
       "9997  248318         0                  0\n",
       "9998  142418         1                  1\n",
       "9999  279355         1                  1\n",
       "\n",
       "[10000 rows x 3 columns]"
      ]
     },
     "execution_count": 85,
     "metadata": {},
     "output_type": "execute_result"
    }
   ],
   "source": [
    "final_results[['user','enrolled','predicted_results']].reset_index(drop=True)"
   ]
  },
  {
   "cell_type": "markdown",
   "id": "f7048489",
   "metadata": {},
   "source": [
    "The reason behind this final step is so that we can compare the results with the original source : here it is meant to know identify which user we want to predict from (in order then to target him/her or not)."
   ]
  }
 ],
 "metadata": {
  "kernelspec": {
   "display_name": "Python 3 (ipykernel)",
   "language": "python",
   "name": "python3"
  },
  "language_info": {
   "codemirror_mode": {
    "name": "ipython",
    "version": 3
   },
   "file_extension": ".py",
   "mimetype": "text/x-python",
   "name": "python",
   "nbconvert_exporter": "python",
   "pygments_lexer": "ipython3",
   "version": "3.9.7"
  }
 },
 "nbformat": 4,
 "nbformat_minor": 5
}
